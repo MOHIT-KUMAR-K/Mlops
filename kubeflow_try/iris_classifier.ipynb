{
 "cells": [
  {
   "cell_type": "code",
   "execution_count": 2,
   "metadata": {},
   "outputs": [],
   "source": [
    "import kfp\n",
    "import kfp.components as comp\n",
    "import requests\n",
    "import kfp.dsl as dsl"
   ]
  },
  {
   "cell_type": "code",
   "execution_count": 3,
   "metadata": {},
   "outputs": [],
   "source": [
    "def prepare_data():\n",
    "    import pandas as pd\n",
    "    print(\"---- Inside prepare_data component ----\")\n",
    "    # Load dataset\n",
    "    df = pd.read_csv(\"https://raw.githubusercontent.com/TripathiAshutosh/dataset/main/iris.csv\")\n",
    "    df = df.dropna()\n",
    "    df.to_csv(f'data/final_df.csv', index=False)\n",
    "    print(\"\\n ---- data csv is saved to PV location /data/final_df.csv ----\")"
   ]
  },
  {
   "cell_type": "code",
   "execution_count": 33,
   "metadata": {},
   "outputs": [],
   "source": [
    "def train_test_split():\n",
    "    import pandas as pd\n",
    "    import numpy as np\n",
    "    from sklearn.model_selection import train_test_split\n",
    "    print(\"---- Inside train_test_split component ----\")\n",
    "    final_data = pd.read_csv(f'data/final_df.csv')\n",
    "    target_column = 'class'\n",
    "    X = final_data.loc[:, final_data.columns != target_column]\n",
    "    y = final_data.loc[:, final_data.columns == target_column]\n",
    "    \n",
    "    X_train, X_test, y_train, y_test = train_test_split(X, y, test_size=0.1,stratify = y, random_state=47)\n",
    "    \n",
    "    np.save(f'data/X_train.npy', X_train)\n",
    "    np.save(f'data/X_test.npy', X_test)\n",
    "    np.save(f'data/y_train.npy', y_train)\n",
    "    np.save(f'data/y_test.npy', y_test)\n",
    "    \n",
    "    # print(\"\\n---- X_train ----\")\n",
    "    # print(\"\\n\")\n",
    "    # print(X_train)\n",
    "    \n",
    "    # print(\"\\n---- X_test ----\")\n",
    "    # print(\"\\n\")\n",
    "    # print(X_test)\n",
    "    \n",
    "    # print(\"\\n---- y_train ----\")\n",
    "    # print(\"\\n\")\n",
    "    # print(y_train)\n",
    "    \n",
    "    # print(\"\\n---- y_test ----\")\n",
    "    # print(\"\\n\")\n",
    "    # print(y_test)"
   ]
  },
  {
   "cell_type": "code",
   "execution_count": 34,
   "metadata": {},
   "outputs": [],
   "source": [
    "def training_basic_classifier():\n",
    "    import pandas as pd\n",
    "    import numpy as np\n",
    "    from sklearn.linear_model import LogisticRegression\n",
    "    \n",
    "    print(\"---- Inside training_basic_classifier component ----\")\n",
    "    \n",
    "    X_train = np.load(f'data/X_train.npy',allow_pickle=True)\n",
    "    y_train = np.load(f'data/y_train.npy',allow_pickle=True)\n",
    "    \n",
    "    classifier = LogisticRegression(max_iter=500)\n",
    "    classifier.fit(X_train,y_train)\n",
    "    import pickle\n",
    "    with open(f'data/model.pkl', 'wb') as f:\n",
    "        pickle.dump(classifier, f)\n",
    "    \n",
    "    print(\"\\n logistic regression classifier is trained on iris data and saved to PV location /data/model.pkl ----\")"
   ]
  },
  {
   "cell_type": "code",
   "execution_count": 76,
   "metadata": {},
   "outputs": [],
   "source": [
    "def training_xgboost_classifier():\n",
    "    from sklearn import svm\n",
    "    import xgboost as xgb\n",
    "    from xgboost import XGBClassifier\n",
    "    import numpy as np\n",
    "    print('trying XGBoost classifier')\n",
    "\n",
    "    X_train = np.load(f'data/X_train.npy',allow_pickle=True)\n",
    "    y_train = np.load(f'data/y_train.npy',allow_pickle=True)\n",
    "\n",
    "\n",
    "\n",
    "    dtrain = xgb.DMatrix(X_train, label=y_train)\n",
    "    parameters = {\n",
    "    \"eta\": 0.3,\n",
    "    \"objective\": \"multi:softprob\",  # error evaluation for multiclass tasks\n",
    "    \"num_class\": 3,  # number of classes to predic\n",
    "    \"max_depth\": 3,  # depth of the trees in the boosting process\n",
    "    }\n",
    "    num_round = 20  # the number of training iterations\n",
    "    bst = xgb.train(parameters, dtrain, num_round)\n",
    "\n",
    "    import pickle\n",
    "    with open(f'data/model_XGB.pkl', 'wb') as f:\n",
    "        pickle.dump(bst, f)\n",
    "    \n",
    "    print(\"\\n logistic regression classifier is trained on iris data and saved to PV location /data/model_XGB.pkl ----\")"
   ]
  },
  {
   "cell_type": "code",
   "execution_count": 77,
   "metadata": {},
   "outputs": [],
   "source": [
    "# create_step_XGB_classifier = kfp.components.create_component_from_func(\n",
    "#     func=training_xgboost_classifier,\n",
    "#     base_image='python:3.7',\n",
    "#     packages_to_install=['pandas==1.2.4','numpy==1.21.0','scikit-learn==0.24.2','xgboost']\n",
    "# )"
   ]
  },
  {
   "cell_type": "code",
   "execution_count": 78,
   "metadata": {},
   "outputs": [],
   "source": [
    "def predict_on_test_data():\n",
    "    import pandas as pd\n",
    "    import numpy as np\n",
    "    import pickle\n",
    "    print(\"---- Inside predict_on_test_data component ----\")\n",
    "    with open(f'data/model.pkl','rb') as f:\n",
    "        logistic_reg_model = pickle.load(f)\n",
    "    X_test = np.load(f'data/X_test.npy',allow_pickle=True)\n",
    "    y_pred = logistic_reg_model.predict(X_test)\n",
    "    np.save(f'data/y_pred.npy', y_pred)\n",
    "    \n",
    "    print(\"\\n---- Predicted classes ----\")\n",
    "    print(\"\\n\")\n",
    "    print(y_pred)\n",
    "    "
   ]
  },
  {
   "cell_type": "code",
   "execution_count": 79,
   "metadata": {},
   "outputs": [],
   "source": [
    "def predict_prob_on_test_data():\n",
    "    import pandas as pd\n",
    "    import numpy as np\n",
    "    import pickle\n",
    "    print(\"---- Inside predict_prob_on_test_data component ----\")\n",
    "    with open(f'data/model.pkl','rb') as f:\n",
    "        logistic_reg_model = pickle.load(f)\n",
    "    X_test = np.load(f'data/X_test.npy',allow_pickle=True)\n",
    "    y_pred_prob = logistic_reg_model.predict_proba(X_test)\n",
    "    np.save(f'data/y_pred_prob.npy', y_pred_prob)\n",
    "    \n",
    "    print(\"\\n---- Predicted Probabilities ----\")\n",
    "    print(\"\\n\")\n",
    "    print(y_pred_prob)"
   ]
  },
  {
   "cell_type": "code",
   "execution_count": 80,
   "metadata": {},
   "outputs": [],
   "source": [
    "def get_metrics():\n",
    "    import pandas as pd\n",
    "    import numpy as np\n",
    "    from sklearn.metrics import accuracy_score,precision_score,recall_score,log_loss\n",
    "    from sklearn import metrics\n",
    "    print(\"---- Inside get_metrics component ----\")\n",
    "    y_test = np.load(f'data/y_test.npy',allow_pickle=True)\n",
    "    y_pred = np.load(f'data/y_pred.npy',allow_pickle=True)\n",
    "    y_pred_prob = np.load(f'data/y_pred_prob.npy',allow_pickle=True)\n",
    "    acc = accuracy_score(y_test, y_pred)\n",
    "    prec = precision_score(y_test, y_pred,average='micro')\n",
    "    recall = recall_score(y_test, y_pred,average='micro')\n",
    "    entropy = log_loss(y_test, y_pred_prob)\n",
    "    \n",
    "    y_test = np.load(f'data/y_test.npy',allow_pickle=True)\n",
    "    y_pred = np.load(f'data/y_pred.npy',allow_pickle=True)\n",
    "    print(metrics.classification_report(y_test, y_pred))\n",
    "    \n",
    "    print(\"\\n Model Metrics:\", {'accuracy': round(acc, 2), 'precision': round(prec, 2), 'recall': round(recall, 2), 'entropy': round(entropy, 2)})"
   ]
  },
  {
   "cell_type": "code",
   "execution_count": 81,
   "metadata": {},
   "outputs": [],
   "source": [
    "create_step_prepare_data = kfp.components.create_component_from_func(\n",
    "    func=prepare_data,\n",
    "    base_image='python:3.7',\n",
    "    packages_to_install=['pandas==1.2.4','numpy==1.21.0']\n",
    ")"
   ]
  },
  {
   "cell_type": "code",
   "execution_count": 82,
   "metadata": {},
   "outputs": [],
   "source": [
    "create_step_train_test_split = kfp.components.create_component_from_func(\n",
    "    func=train_test_split,\n",
    "    base_image='python:3.7',\n",
    "    packages_to_install=['pandas==1.2.4','numpy==1.21.0','scikit-learn==0.24.2']\n",
    ")"
   ]
  },
  {
   "cell_type": "code",
   "execution_count": 83,
   "metadata": {},
   "outputs": [],
   "source": [
    "create_step_training_basic_classifier = kfp.components.create_component_from_func(\n",
    "    func=training_basic_classifier,\n",
    "    base_image='python:3.7',\n",
    "    packages_to_install=['pandas==1.2.4','numpy==1.21.0','scikit-learn==0.24.2']\n",
    ")"
   ]
  },
  {
   "cell_type": "code",
   "execution_count": 84,
   "metadata": {},
   "outputs": [],
   "source": [
    "create_step_predict_on_test_data = kfp.components.create_component_from_func(\n",
    "    func=predict_on_test_data,\n",
    "    base_image='python:3.7',\n",
    "    packages_to_install=['pandas==1.2.4','numpy==1.21.0','scikit-learn==0.24.2']\n",
    ")"
   ]
  },
  {
   "cell_type": "code",
   "execution_count": 85,
   "metadata": {},
   "outputs": [],
   "source": [
    "create_step_predict_prob_on_test_data = kfp.components.create_component_from_func(\n",
    "    func=predict_prob_on_test_data,\n",
    "    base_image='python:3.7',\n",
    "    packages_to_install=['pandas==1.2.4','numpy==1.21.0','scikit-learn==0.24.2']\n",
    ")"
   ]
  },
  {
   "cell_type": "code",
   "execution_count": 86,
   "metadata": {},
   "outputs": [],
   "source": [
    "create_step_get_metrics = kfp.components.create_component_from_func(\n",
    "    func=get_metrics,\n",
    "    base_image='python:3.7',\n",
    "    packages_to_install=['pandas==1.2.4','numpy==1.21.0','scikit-learn==0.24.2']\n",
    ")"
   ]
  },
  {
   "cell_type": "code",
   "execution_count": 87,
   "metadata": {},
   "outputs": [],
   "source": [
    "\n",
    "# Define the pipeline\n",
    "@dsl.pipeline(\n",
    "   name='IRIS classifier Kubeflow Demo Pipeline',\n",
    "   description='A sample pipeline that performs IRIS classifier task'\n",
    ")\n",
    "# Define parameters to be fed into pipeline\n",
    "def iris_classifier_pipeline(data_path: str):\n",
    "    vop = dsl.VolumeOp(\n",
    "    name=\"t-vol\",\n",
    "    resource_name=\"t-vol\", \n",
    "    size=\"1Gi\", \n",
    "    modes=dsl.VOLUME_MODE_RWO)\n",
    "    \n",
    "    prepare_data_task = create_step_prepare_data().add_pvolumes({data_path: vop.volume})\n",
    "    train_test_split = create_step_train_test_split().add_pvolumes({data_path: vop.volume}).after(prepare_data_task)\n",
    "    classifier_training = create_step_training_basic_classifier().add_pvolumes({data_path: vop.volume}).after(train_test_split)\n",
    "   #  xg_boost_training = create_step_XGB_classifier().add_pvolumes({data_path: vop.volume}).after(train_test_split)\n",
    "    log_predicted_class = create_step_predict_on_test_data().add_pvolumes({data_path: vop.volume}).after(classifier_training)\n",
    "   #  .after(xg_boost_training)\n",
    "    log_predicted_probabilities = create_step_predict_prob_on_test_data().add_pvolumes({data_path: vop.volume}).after(log_predicted_class)\n",
    "    log_metrics_task = create_step_get_metrics().add_pvolumes({data_path: vop.volume}).after(log_predicted_probabilities)\n",
    "\n",
    "    \n",
    "    prepare_data_task.execution_options.caching_strategy.max_cache_staleness = \"P0D\"\n",
    "    train_test_split.execution_options.caching_strategy.max_cache_staleness = \"P0D\"\n",
    "    classifier_training.execution_options.caching_strategy.max_cache_staleness = \"P0D\"\n",
    "   #  xg_boost_training.execution_options.caching_strategy.max_cache_staleness = \"P0D\"\n",
    "    log_predicted_class.execution_options.caching_strategy.max_cache_staleness = \"P0D\"\n",
    "    log_predicted_probabilities.execution_options.caching_strategy.max_cache_staleness = \"P0D\"\n",
    "    log_metrics_task.execution_options.caching_strategy.max_cache_staleness = \"P0D\"\n",
    "    \n",
    "    \n",
    "    "
   ]
  },
  {
   "cell_type": "code",
   "execution_count": 88,
   "metadata": {},
   "outputs": [],
   "source": [
    "\n",
    "kfp.compiler.Compiler().compile(\n",
    "    pipeline_func=iris_classifier_pipeline,\n",
    "    package_path='IRIS_Classifier_pipeline1.yaml')\n"
   ]
  },
  {
   "cell_type": "code",
   "execution_count": 89,
   "metadata": {},
   "outputs": [],
   "source": [
    "client = kfp.Client()\n",
    "#session_cookie = \"MTY2MDY0Mjg0OXxOd3dBTkRSVE5FeElTMEZDVDFVeU5EZE1SMHhUVHpRMU5FcFpNMWRNVWpaTFVrOHlXRFJOVlRReVVFNUxOazFZVEVWQ05FUkZTRUU9fM7IcyOyK49OM0dMDjRJR85gqDksj-YOOLsagNs-_-KR\"\n",
    "# HOST = \"http://localhost:8080/\"\n",
    "# namespace = \"kubeflow\"\n",
    "# client = kfp.Client(\n",
    "#     host=f\"{HOST}/pipeline\",\n",
    "#     #cookies=f\"authservice_session={session_cookie}\",\n",
    "#     namespace=namespace,\n",
    "# )"
   ]
  },
  {
   "cell_type": "code",
   "execution_count": 90,
   "metadata": {},
   "outputs": [
    {
     "data": {
      "text/html": [
       "<a href=\"/pipeline/#/experiments/details/13fcb29d-e3f4-4744-81a7-df5bb187c953\" target=\"_blank\" >Experiment details</a>."
      ],
      "text/plain": [
       "<IPython.core.display.HTML object>"
      ]
     },
     "metadata": {},
     "output_type": "display_data"
    },
    {
     "data": {
      "text/html": [
       "<a href=\"/pipeline/#/runs/details/e395bf26-b7c9-4586-bc58-9955f97e11cd\" target=\"_blank\" >Run details</a>."
      ],
      "text/plain": [
       "<IPython.core.display.HTML object>"
      ]
     },
     "metadata": {},
     "output_type": "display_data"
    }
   ],
   "source": [
    "DATA_PATH = '/data'\n",
    "\n",
    "import datetime\n",
    "\n",
    "\n",
    "pipeline_func = iris_classifier_pipeline\n",
    "experiment_name = 'moh_test'\n",
    "run_name = pipeline_func.__name__ + ' run XGBOOST'+\"_\"+ str(datetime.datetime.now())\n",
    "namespace = \"kubeflow\"\n",
    "\n",
    "arguments = {\"data_path\":DATA_PATH}\n",
    "\n",
    "kfp.compiler.Compiler().compile(pipeline_func,  \n",
    "  '{}.zip'.format(experiment_name))\n",
    "\n",
    "run_result = client.create_run_from_pipeline_func(pipeline_func, \n",
    "                                                  experiment_name=experiment_name, \n",
    "                                                  run_name=run_name, \n",
    "                                                  arguments=arguments)\n",
    "\n",
    "# from kubernetes import client as k8s_client\n",
    "# pipeline_conf = kfp.dsl.PipelineConf()\n",
    "# pipeline_conf.set_image_pull_secrets([k8s_client.V1ObjectReference(namespace='kubeflow', \n",
    "#                                                                                  name=\"secret\")])\n",
    "# pipeline_conf.set_image_pull_policy(\"IfNotPresent\")\n",
    "    \n",
    "# # Compile pipeline to generate compressed YAML definition of the pipeline.\n",
    "# kfp.compiler.Compiler().compile(pipeline_func,  \n",
    "#   '{}.zip'.format(experiment_name))\n",
    "# # Submit pipeline directly from pipeline function\n",
    "# run_result = client.create_run_from_pipeline_func(pipeline_func, \n",
    "#                                                   experiment_name=experiment_name, \n",
    "#                                                   run_name=run_name, \n",
    "#                                                   arguments=arguments,\n",
    "#                                                   namespace = namespace,\n",
    "#                                                   pipeline_conf=pipeline_conf)\n",
    "\n",
    "\n",
    "\n",
    "\n",
    "\n"
   ]
  },
  {
   "cell_type": "code",
   "execution_count": null,
   "metadata": {},
   "outputs": [],
   "source": []
  },
  {
   "cell_type": "code",
   "execution_count": null,
   "metadata": {},
   "outputs": [],
   "source": []
  }
 ],
 "metadata": {
  "kernelspec": {
   "display_name": "env",
   "language": "python",
   "name": "python3"
  },
  "language_info": {
   "codemirror_mode": {
    "name": "ipython",
    "version": 3
   },
   "file_extension": ".py",
   "mimetype": "text/x-python",
   "name": "python",
   "nbconvert_exporter": "python",
   "pygments_lexer": "ipython3",
   "version": "3.10.9"
  },
  "orig_nbformat": 4,
  "vscode": {
   "interpreter": {
    "hash": "d44465400da8a161c1f0c5045e1613d43d14de927391832a6302305a4b507e13"
   }
  }
 },
 "nbformat": 4,
 "nbformat_minor": 2
}
