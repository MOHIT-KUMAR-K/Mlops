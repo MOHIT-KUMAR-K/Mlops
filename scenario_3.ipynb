{
 "cells": [
  {
   "cell_type": "code",
   "execution_count": 3,
   "metadata": {},
   "outputs": [],
   "source": [
    "import pandas as pd\n",
    "import pickle\n",
    "\n",
    "from sklearn.feature_extraction import DictVectorizer\n",
    "from sklearn.linear_model import LinearRegression, Lasso, Ridge\n",
    "from sklearn.metrics import mean_squared_error\n",
    "\n",
    "import mlflow\n",
    "\n",
    "import xgboost as xgb\n",
    "\n",
    "from hyperopt import fmin, tpe, hp, STATUS_OK, Trials\n",
    "from hyperopt.pyll import scope\n",
    "\n",
    "from prefect import flow, task"
   ]
  },
  {
   "cell_type": "code",
   "execution_count": 4,
   "metadata": {},
   "outputs": [],
   "source": [
    "@task\n",
    "def read_dataframe(filename):\n",
    "    df = pd.read_parquet(filename)\n",
    "\n",
    "    df.lpep_dropoff_datetime = pd.to_datetime(df.lpep_dropoff_datetime)\n",
    "    df.lpep_pickup_datetime = pd.to_datetime(df.lpep_pickup_datetime)\n",
    "\n",
    "    df['duration'] = df.lpep_dropoff_datetime - df.lpep_pickup_datetime\n",
    "    df.duration = df.duration.apply(lambda td: td.total_seconds() / 60)\n",
    "\n",
    "    df = df[(df.duration >= 1) & (df.duration <= 60)]\n",
    "\n",
    "    categorical = ['PULocationID', 'DOLocationID']\n",
    "    df[categorical] = df[categorical].astype(str)\n",
    "\n",
    "    return df"
   ]
  },
  {
   "cell_type": "code",
   "execution_count": 5,
   "metadata": {},
   "outputs": [],
   "source": [
    "@task\n",
    "def add_features(df_train, df_val):\n",
    "    df_train['PU_DO'] = df_train['PULocationID'] + '_' + df_train['DOLocationID']\n",
    "    df_val['PU_DO'] = df_val['PULocationID'] + '_' + df_val['DOLocationID']\n",
    "\n",
    "    categorical = ['PU_DO'] #'PULocationID', 'DOLocationID']\n",
    "    numerical = ['trip_distance']\n",
    "\n",
    "    dv = DictVectorizer()\n",
    "\n",
    "    train_dicts = df_train[categorical + numerical].to_dict(orient='records')\n",
    "    X_train = dv.fit_transform(train_dicts)\n",
    "\n",
    "    val_dicts = df_val[categorical + numerical].to_dict(orient='records')\n",
    "    X_val = dv.transform(val_dicts)\n",
    "\n",
    "\n",
    "    target = 'duration'\n",
    "    y_train = df_train[target].values\n",
    "    y_val = df_val[target].values\n",
    "    return X_train, X_val, y_train, y_val, dv"
   ]
  },
  {
   "cell_type": "code",
   "execution_count": 8,
   "metadata": {},
   "outputs": [
    {
     "name": "stderr",
     "output_type": "stream",
     "text": [
      "c:\\Mohit coding\\Mlops\\env\\lib\\site-packages\\prefect\\tasks.py:167: UserWarning: A task named 'train_model_search' and defined at 'C:\\Users\\Mohit\\AppData\\Local\\Temp\\ipykernel_13120\\3947892486.py:1' conflicts with another task. Consider specifying a unique `name` parameter in the task definition:\n",
      "\n",
      " `@task(name='my_unique_name', ...)`\n",
      "  warnings.warn(\n"
     ]
    }
   ],
   "source": [
    "@task\n",
    "def train_model_search(train, valid, y_val):\n",
    "    def _objective(params):\n",
    "        with mlflow.start_run():\n",
    "            mlflow.set_tag(\"model\", \"xgboost\")\n",
    "            mlflow.log_params(params)\n",
    "            booster = xgb.train(\n",
    "                params=params,\n",
    "                dtrain=train,\n",
    "                num_boost_round=2,\n",
    "                evals=[(valid, 'validation')],\n",
    "                early_stopping_rounds=3\n",
    "            )\n",
    "            y_pred = booster.predict(valid)\n",
    "            rmse = mean_squared_error(y_val, y_pred, squared=False)\n",
    "            mlflow.log_metric(\"rmse\", rmse)\n",
    "\n",
    "        return {'loss': rmse, 'status': STATUS_OK}\n",
    "    \n",
    "\n",
    "    search_space = {\n",
    "        'max_depth': scope.int(hp.quniform('max_depth', 4, 100, 1)),\n",
    "        'learning_rate': hp.loguniform('learning_rate', -3, 0),\n",
    "        'reg_alpha': hp.loguniform('reg_alpha', -5, -1),\n",
    "        'reg_lambda': hp.loguniform('reg_lambda', -6, -1),\n",
    "        'min_child_weight': hp.loguniform('min_child_weight', -1, 3),\n",
    "        'objective': 'reg:linear',\n",
    "        'seed': 42\n",
    "    }\n",
    "\n",
    "    best_result = fmin(\n",
    "        fn=_objective,\n",
    "        space=search_space,\n",
    "        algo=tpe.suggest,\n",
    "        max_evals=1,\n",
    "        trials=Trials()\n",
    "    )\n",
    "    return best_result"
   ]
  },
  {
   "cell_type": "code",
   "execution_count": 9,
   "metadata": {},
   "outputs": [],
   "source": [
    "@task\n",
    "def train_best_model(X_train, X_val, y_train, y_val, dv):\n",
    "    with mlflow.start_run():\n",
    "        \n",
    "        train = xgb.DMatrix(X_train, label=y_train)\n",
    "        valid = xgb.DMatrix(X_val, label=y_val)\n",
    "\n",
    "        best_params = {\n",
    "            'learning_rate': 0.09585355369315604,\n",
    "            'max_depth': 30,\n",
    "            'min_child_weight': 1.060597050922164,\n",
    "            'objective': 'reg:linear',\n",
    "            'reg_alpha': 0.018060244040060163,\n",
    "            'reg_lambda': 0.011658731377413597,\n",
    "            'seed': 42\n",
    "        }\n",
    "\n",
    "        mlflow.log_params(best_params)\n",
    "\n",
    "        booster = xgb.train(\n",
    "            params=best_params,\n",
    "            dtrain=train,\n",
    "            num_boost_round=2,\n",
    "            evals=[(valid, 'validation')],\n",
    "            early_stopping_rounds=3\n",
    "        )\n",
    "\n",
    "        y_pred = booster.predict(valid)\n",
    "        rmse = mean_squared_error(y_val, y_pred, squared=False)\n",
    "        mlflow.log_metric(\"rmse\", rmse)\n",
    "\n",
    "        with open(\"models/preprocessor.b\", \"wb\") as f_out:\n",
    "            pickle.dump(dv, f_out)\n",
    "        mlflow.log_artifact(\"models/preprocessor.b\", artifact_path=\"preprocessor\")\n",
    "\n",
    "        mlflow.xgboost.log_model(booster, artifact_path=\"models_mlflow\")"
   ]
  },
  {
   "cell_type": "code",
   "execution_count": 10,
   "metadata": {},
   "outputs": [],
   "source": [
    "@flow\n",
    "def main_flow(train_path: str = 'C:\\Mohit coding\\Mlops\\yellow_tripdata_2022-01.parquet', \n",
    "                val_path: str = 'C:\\Mohit coding\\Mlops\\yellow_tripdata_2022-02.parquet'):\n",
    "    mlflow.set_tracking_uri(\"sqlite:///mlflow.db\")\n",
    "    mlflow.set_experiment(\"nyc-taxi-experiment\")\n",
    "    # Load\n",
    "    df_train = read_dataframe(train_path)\n",
    "    df_val = read_dataframe(val_path)\n",
    "\n",
    "    # Transform\n",
    "    X_train, X_val, y_train, y_val, dv = add_features(df_train, df_val).result()\n",
    "\n",
    "    # Training\n",
    "    train = xgb.DMatrix(X_train, label=y_train)\n",
    "    valid = xgb.DMatrix(X_val, label=y_val)\n",
    "    best = train_model_search(train, valid, y_val)\n",
    "    train_best_model(X_train, X_val, y_train, y_val, dv, wait_for=best)"
   ]
  },
  {
   "cell_type": "code",
   "execution_count": 16,
   "metadata": {},
   "outputs": [
    {
     "ename": "RuntimeError",
     "evalue": "A 'sync_compatible' method was called from a context that was previously async but is now sync. The sync call must be changed to run in a worker thread to support sending the coroutine for 'build_from_flow' to the main thread.",
     "output_type": "error",
     "traceback": [
      "\u001b[1;31m---------------------------------------------------------------------------\u001b[0m",
      "\u001b[1;31mRuntimeError\u001b[0m                              Traceback (most recent call last)",
      "Cell \u001b[1;32mIn[16], line 5\u001b[0m\n\u001b[0;32m      2\u001b[0m \u001b[39mfrom\u001b[39;00m \u001b[39mprefect\u001b[39;00m\u001b[39m.\u001b[39;00m\u001b[39morion\u001b[39;00m\u001b[39m.\u001b[39;00m\u001b[39mschemas\u001b[39;00m\u001b[39m.\u001b[39;00m\u001b[39mschedules\u001b[39;00m \u001b[39mimport\u001b[39;00m IntervalSchedule\n\u001b[0;32m      3\u001b[0m \u001b[39mfrom\u001b[39;00m \u001b[39mdatetime\u001b[39;00m \u001b[39mimport\u001b[39;00m timedelta\n\u001b[1;32m----> 5\u001b[0m deployment \u001b[39m=\u001b[39m Deployment\u001b[39m.\u001b[39;49mbuild_from_flow(\n\u001b[0;32m      6\u001b[0m     flow\u001b[39m=\u001b[39;49mmain_flow,\n\u001b[0;32m      7\u001b[0m     name\u001b[39m=\u001b[39;49m\u001b[39m\"\u001b[39;49m\u001b[39mmodel_training\u001b[39;49m\u001b[39m\"\u001b[39;49m,\n\u001b[0;32m      8\u001b[0m     schedule\u001b[39m=\u001b[39;49mIntervalSchedule(interval\u001b[39m=\u001b[39;49mtimedelta(minutes\u001b[39m=\u001b[39;49m\u001b[39m5\u001b[39;49m)),\n\u001b[0;32m      9\u001b[0m     work_queue_name\u001b[39m=\u001b[39;49m\u001b[39m\"\u001b[39;49m\u001b[39mml\u001b[39;49m\u001b[39m\"\u001b[39;49m\n\u001b[0;32m     10\u001b[0m )\n\u001b[0;32m     12\u001b[0m deployment\u001b[39m.\u001b[39mapply()\n",
      "File \u001b[1;32mc:\\Mohit coding\\Mlops\\env\\lib\\site-packages\\prefect\\utilities\\asyncutils.py:198\u001b[0m, in \u001b[0;36msync_compatible.<locals>.wrapper\u001b[1;34m(*args, **kwargs)\u001b[0m\n\u001b[0;32m    195\u001b[0m         \u001b[39mreturn\u001b[39;00m async_fn(\u001b[39m*\u001b[39margs, \u001b[39m*\u001b[39m\u001b[39m*\u001b[39mkwargs)\n\u001b[0;32m    196\u001b[0m     \u001b[39melse\u001b[39;00m:\n\u001b[0;32m    197\u001b[0m         \u001b[39m# In the main thread but call was made from a sync method\u001b[39;00m\n\u001b[1;32m--> 198\u001b[0m         \u001b[39mraise\u001b[39;00m \u001b[39mRuntimeError\u001b[39;00m(\n\u001b[0;32m    199\u001b[0m             \u001b[39m\"\u001b[39m\u001b[39mA \u001b[39m\u001b[39m'\u001b[39m\u001b[39msync_compatible\u001b[39m\u001b[39m'\u001b[39m\u001b[39m method was called from a context that was \u001b[39m\u001b[39m\"\u001b[39m\n\u001b[0;32m    200\u001b[0m             \u001b[39m\"\u001b[39m\u001b[39mpreviously async but is now sync. The sync call must be changed \u001b[39m\u001b[39m\"\u001b[39m\n\u001b[0;32m    201\u001b[0m             \u001b[39m\"\u001b[39m\u001b[39mto run in a worker thread to support sending the coroutine for \u001b[39m\u001b[39m\"\u001b[39m\n\u001b[0;32m    202\u001b[0m             \u001b[39mf\u001b[39m\u001b[39m\"\u001b[39m\u001b[39m{\u001b[39;00masync_fn\u001b[39m.\u001b[39m\u001b[39m__name__\u001b[39m\u001b[39m!r}\u001b[39;00m\u001b[39m to the main thread.\u001b[39m\u001b[39m\"\u001b[39m\n\u001b[0;32m    203\u001b[0m         )\n\u001b[0;32m    205\u001b[0m \u001b[39melif\u001b[39;00m in_async_worker_thread():\n\u001b[0;32m    206\u001b[0m     \u001b[39m# In a sync context but we can access the event loop thread; send the async\u001b[39;00m\n\u001b[0;32m    207\u001b[0m     \u001b[39m# call to the parent\u001b[39;00m\n\u001b[0;32m    208\u001b[0m     \u001b[39mreturn\u001b[39;00m run_async_from_worker_thread(async_fn, \u001b[39m*\u001b[39margs, \u001b[39m*\u001b[39m\u001b[39m*\u001b[39mkwargs)\n",
      "\u001b[1;31mRuntimeError\u001b[0m: A 'sync_compatible' method was called from a context that was previously async but is now sync. The sync call must be changed to run in a worker thread to support sending the coroutine for 'build_from_flow' to the main thread."
     ]
    }
   ],
   "source": [
    "from prefect.deployments import Deployment\n",
    "from prefect.orion.schemas.schedules import IntervalSchedule\n",
    "from datetime import timedelta\n",
    "\n",
    "deployment = Deployment.build_from_flow(\n",
    "    flow=main_flow,\n",
    "    name=\"model_training\",\n",
    "    schedule=IntervalSchedule(interval=timedelta(minutes=5)),\n",
    "    work_queue_name=\"ml\"\n",
    ")\n",
    "\n",
    "deployment.apply()"
   ]
  },
  {
   "cell_type": "code",
   "execution_count": 14,
   "metadata": {},
   "outputs": [
    {
     "name": "stdout",
     "output_type": "stream",
     "text": [
      "^C\n"
     ]
    }
   ],
   "source": []
  },
  {
   "cell_type": "code",
   "execution_count": null,
   "metadata": {},
   "outputs": [],
   "source": []
  }
 ],
 "metadata": {
  "kernelspec": {
   "display_name": "env",
   "language": "python",
   "name": "python3"
  },
  "language_info": {
   "codemirror_mode": {
    "name": "ipython",
    "version": 3
   },
   "file_extension": ".py",
   "mimetype": "text/x-python",
   "name": "python",
   "nbconvert_exporter": "python",
   "pygments_lexer": "ipython3",
   "version": "3.10.9"
  },
  "orig_nbformat": 4,
  "vscode": {
   "interpreter": {
    "hash": "d44465400da8a161c1f0c5045e1613d43d14de927391832a6302305a4b507e13"
   }
  }
 },
 "nbformat": 4,
 "nbformat_minor": 2
}
